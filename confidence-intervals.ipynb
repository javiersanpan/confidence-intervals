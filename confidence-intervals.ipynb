{
 "cells": [
  {
   "cell_type": "code",
   "execution_count": 1,
   "id": "c45293af-0761-4e53-a674-8e5aa46c49cd",
   "metadata": {},
   "outputs": [],
   "source": [
    "import numpy as np"
   ]
  },
  {
   "cell_type": "markdown",
   "id": "1d0b6b9b-3a29-4f0c-87f1-91d24a9a74a7",
   "metadata": {},
   "source": [
    "Problema 1:\n",
    "\n",
    "Un estudio de calidad se está realizando para evaluar el diámetro promedio de tuercas producidas por una fábrica. Se toma una muestra aleatoria de 75 tuercas y se encuentra que el diámetro promedio en la muestra es de 8.5 mm, con una desviación estándar muestral de 0.3 mm. Calcular un intervalo de confianza del 80% para la media real del diámetro de las tuercas producidas."
   ]
  },
  {
   "cell_type": "markdown",
   "id": "6aa614b3-079b-410c-89c3-484395f5cda9",
   "metadata": {},
   "source": [
    "$$\n",
    "n = 75\n",
    "$$\n",
    "$$\n",
    "\\bar{x} = 8.5\n",
    "$$\n",
    "$$\n",
    "\\sigma = 0.3\n",
    "$$\n",
    "Teorema de límite central:\n",
    "$$\n",
    "\\frac{\\bar{x} - \\mu}{\\frac{\\sigma}{\\sqrt{n}}}\n",
    "$$\n",
    "\n",
    "Se quiere calcular el intervalo de confianza de 80%. \n",
    "$$\n",
    "a = 8.5\n",
    "$$"
   ]
  },
  {
   "cell_type": "code",
   "execution_count": null,
   "id": "99f5afd2-6372-48f0-95e8-000757ed2ad2",
   "metadata": {},
   "outputs": [],
   "source": []
  }
 ],
 "metadata": {
  "kernelspec": {
   "display_name": "Python 3 (ipykernel)",
   "language": "python",
   "name": "python3"
  },
  "language_info": {
   "codemirror_mode": {
    "name": "ipython",
    "version": 3
   },
   "file_extension": ".py",
   "mimetype": "text/x-python",
   "name": "python",
   "nbconvert_exporter": "python",
   "pygments_lexer": "ipython3",
   "version": "3.11.4"
  }
 },
 "nbformat": 4,
 "nbformat_minor": 5
}
